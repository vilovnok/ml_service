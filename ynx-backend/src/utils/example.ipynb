{
 "cells": [
  {
   "cell_type": "code",
   "execution_count": 5,
   "metadata": {},
   "outputs": [
    {
     "name": "stdout",
     "output_type": "stream",
     "text": [
      "uploads_direct: /Users/richardgurtsiev/Desktop/projects/event-index/restApi/src/uploads\n"
     ]
    }
   ],
   "source": [
    "import os\n",
    "\n",
    "# current_path=os.path.dirname(os.path.realpath(__file__))\n",
    "current_path=os.path.abspath(os.getcwd())\n",
    "\n",
    "# t_p=os.getcwd()\n",
    "# print(f'Current Path: {current_path}')\n",
    "# t=os.chdir(os.path.join(t_p, os.pardir))\n",
    "# print(t)\n",
    "\n",
    "uploads_direct=os.path.join(current_path, 'src/uploads')\n",
    "print(f'uploads_direct: {uploads_direct}')\n",
    "# file_path=os.path.join(uploads_direct, 'test.txt')\n",
    "# print(f'File Path: {file_path}')\n"
   ]
  },
  {
   "cell_type": "code",
   "execution_count": 4,
   "metadata": {},
   "outputs": [
    {
     "name": "stdout",
     "output_type": "stream",
     "text": [
      "created\n"
     ]
    }
   ],
   "source": [
    "re=['123',123,'none', False]\n",
    "filename='test.txt'\n",
    "with open(f'{filename}', 'w') as file:\n",
    "    for item in re:\n",
    "        file.write(str(item)+',')\n",
    "print('created')        "
   ]
  },
  {
   "cell_type": "code",
   "execution_count": null,
   "metadata": {},
   "outputs": [],
   "source": [
    "import os\n",
    "import zipfile\n",
    "list_paths=[]\n",
    "file_zip=zipfile.ZipFile('files.zip','w')\n",
    "# for folder, subfolders, files in os.\n",
    "file_zip.close()"
   ]
  },
  {
   "cell_type": "code",
   "execution_count": 5,
   "metadata": {},
   "outputs": [
    {
     "ename": "ModuleNotFoundError",
     "evalue": "No module named 'config'",
     "output_type": "error",
     "traceback": [
      "\u001b[0;31m---------------------------------------------------------------------------\u001b[0m",
      "\u001b[0;31mModuleNotFoundError\u001b[0m                       Traceback (most recent call last)",
      "Cell \u001b[0;32mIn[5], line 1\u001b[0m\n\u001b[0;32m----> 1\u001b[0m \u001b[38;5;28;01mfrom\u001b[39;00m \u001b[38;5;21;01mconfig\u001b[39;00m \u001b[38;5;28;01mimport\u001b[39;00m DATASET_PATH  \n\u001b[1;32m      2\u001b[0m DATASET_PATH\n",
      "\u001b[0;31mModuleNotFoundError\u001b[0m: No module named 'config'"
     ]
    }
   ],
   "source": [
    "import zipfile\n",
    "import os\n",
    "\n",
    "def write_to_zip(file_paths, zip_file_path):\n",
    "    with zipfile.ZipFile(zip_file_path, 'w', zipfile.ZIP_DEFLATED) as zip_file:\n",
    "        for file_path in file_paths:\n",
    "            if os.path.exists(file_path) and os.path.isfile(file_path):\n",
    "                # Определите относительный путь для сохранения структуры каталогов внутри zip-файла\n",
    "                arcname = os.path.relpath(file_path, os.path.commonpath(file_paths))\n",
    "                zip_file.write(file_path, arcname)\n",
    "            else:\n",
    "                print(f\"File not found: {file_path}\")\n",
    "\n",
    "# Пример использования:\n",
    "file_paths_array = ['/path/to/file1.txt', '/path/to/file2.txt', '/path/to/file3.txt']\n",
    "output_zip_path = '/path/to/output.zip'\n",
    "\n",
    "write_to_zip(file_paths_array, output_zip_path)\n"
   ]
  },
  {
   "cell_type": "code",
   "execution_count": 5,
   "metadata": {},
   "outputs": [
    {
     "name": "stdout",
     "output_type": "stream",
     "text": [
      "/path/to/file1.txt --- /path/to --- file1.txt\n",
      "/path/to/file2.txt --- /path/to --- file2.txt\n",
      "/path/to/file3.txt --- /path/to --- file3.txt\n"
     ]
    }
   ],
   "source": [
    "file_paths_array = ['/path/to/file1.txt', '/path/to/file2.txt', '/path/to/file3.txt']\n",
    "import os\n",
    "for i in file_paths_array:\n",
    "    arcname = os.path.relpath(i, os.path.commonpath(file_paths_array))\n",
    "    print(f\"{i} --- {os.path.commonpath(file_paths_array)} --- {arcname}\")"
   ]
  },
  {
   "cell_type": "code",
   "execution_count": 11,
   "metadata": {},
   "outputs": [
    {
     "ename": "AttributeError",
     "evalue": "'FileManager' object has no attribute 'create_bucket'",
     "output_type": "error",
     "traceback": [
      "\u001b[0;31m---------------------------------------------------------------------------\u001b[0m",
      "\u001b[0;31mAttributeError\u001b[0m                            Traceback (most recent call last)",
      "Cell \u001b[0;32mIn[11], line 5\u001b[0m\n\u001b[1;32m      1\u001b[0m \u001b[38;5;28;01mfrom\u001b[39;00m \u001b[38;5;21;01mfileManager\u001b[39;00m \u001b[38;5;28;01mimport\u001b[39;00m FileManager\n\u001b[1;32m      3\u001b[0m fm \u001b[38;5;241m=\u001b[39m FileManager()\n\u001b[0;32m----> 5\u001b[0m \u001b[43mfm\u001b[49m\u001b[38;5;241;43m.\u001b[39;49m\u001b[43mcreate_bucket\u001b[49m(bucket_name\u001b[38;5;241m=\u001b[39m\u001b[38;5;124m'\u001b[39m\u001b[38;5;124mevin\u001b[39m\u001b[38;5;124m'\u001b[39m)\n",
      "\u001b[0;31mAttributeError\u001b[0m: 'FileManager' object has no attribute 'create_bucket'"
     ]
    }
   ],
   "source": [
    "from fileManager import FileManager\n",
    "\n",
    "fm = FileManager()\n",
    "\n",
    "fm.create_bucket(bucket_name='evin')\n",
    "# fm.upload(file_name='sh.txt', file_path='temp', bucket_name='evin')"
   ]
  },
  {
   "cell_type": "code",
   "execution_count": null,
   "metadata": {},
   "outputs": [],
   "source": []
  }
 ],
 "metadata": {
  "kernelspec": {
   "display_name": "venv",
   "language": "python",
   "name": "python3"
  },
  "language_info": {
   "codemirror_mode": {
    "name": "ipython",
    "version": 3
   },
   "file_extension": ".py",
   "mimetype": "text/x-python",
   "name": "python",
   "nbconvert_exporter": "python",
   "pygments_lexer": "ipython3",
   "version": "3.9.18"
  }
 },
 "nbformat": 4,
 "nbformat_minor": 2
}
